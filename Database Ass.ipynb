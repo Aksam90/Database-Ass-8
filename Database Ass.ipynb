{
 "cells": [
  {
   "cell_type": "code",
   "execution_count": null,
   "id": "0f012fac",
   "metadata": {},
   "outputs": [
    {
     "ename": "SyntaxError",
     "evalue": "invalid syntax (548307911.py, line 2)",
     "output_type": "error",
     "traceback": [
      "\u001b[1;36m  Cell \u001b[1;32mIn[1], line 2\u001b[1;36m\u001b[0m\n\u001b[1;33m    CREATE TABLE Patients (\u001b[0m\n\u001b[1;37m           ^\u001b[0m\n\u001b[1;31mSyntaxError\u001b[0m\u001b[1;31m:\u001b[0m invalid syntax\n"
     ]
    }
   ],
   "source": [
    "## Case Study: Clinic booking system\n",
    "#Patients to book appointments.\n",
    "\n",
    "#Doctors to manage treatments.\n",
    "\n",
    "#Admin to track payments and visit history.\n",
    "\n",
    "\n",
    "## Patients Table\n",
    "CREATE TABLE Patients (\n",
    "    PatientID INT AUTO_INCREMENT PRIMARY KEY,\n",
    "    FullName VARCHAR(100) NOT NULL,\n",
    "    DateOfBirth DATE NOT NULL,\n",
    "    Gender ENUM('Male', 'Female', 'Other') NOT NULL,\n",
    "    Phone VARCHAR(15) UNIQUE NOT NULL,\n",
    "    Email VARCHAR(100) UNIQUE,\n",
    "    CreatedAt TIMESTAMP DEFAULT CURRENT_TIMESTAMP\n",
    ");\n",
    "\n",
    "##2. Doctors Table\n",
    "CREATE TABLE Doctors (\n",
    "    DoctorID INT AUTO_INCREMENT PRIMARY KEY,\n",
    "    FullName VARCHAR(100) NOT NULL,\n",
    "    Specialization VARCHAR(100) NOT NULL,\n",
    "    Phone VARCHAR(15) UNIQUE NOT NULL,\n",
    "    Email VARCHAR(100) UNIQUE,\n",
    "    CreatedAt TIMESTAMP DEFAULT CURRENT_TIMESTAMP\n",
    ");\n",
    "\n",
    "##3. Appointments Table\n",
    "CREATE TABLE Appointments (\n",
    "    AppointmentID INT AUTO_INCREMENT PRIMARY KEY,\n",
    "    PatientID INT NOT NULL,\n",
    "    DoctorID INT NOT NULL,\n",
    "    AppointmentDate DATETIME NOT NULL,\n",
    "    Status ENUM('Scheduled', 'Completed', 'Cancelled') DEFAULT 'Scheduled',\n",
    "    Notes TEXT,\n",
    "    CreatedAt TIMESTAMP DEFAULT CURRENT_TIMESTAMP,\n",
    "    FOREIGN KEY (PatientID) REFERENCES Patients(PatientID) ON DELETE CASCADE,\n",
    "    FOREIGN KEY (DoctorID) REFERENCES Doctors(DoctorID) ON DELETE CASCADE\n",
    ");\n",
    "\n",
    "##4. Treatments Table\n",
    "CREATE TABLE Treatments (\n",
    "    TreatmentID INT AUTO_INCREMENT PRIMARY KEY,\n",
    "    AppointmentID INT NOT NULL,\n",
    "    Description TEXT NOT NULL,\n",
    "    Prescription TEXT,\n",
    "    Cost DECIMAL(10,2) NOT NULL,\n",
    "    FOREIGN KEY (AppointmentID) REFERENCES Appointments(AppointmentID) ON DELETE CASCADE\n",
    ");\n",
    "\n",
    "##5. Bills Table\n",
    "CREATE TABLE Bills (\n",
    "    BillID INT AUTO_INCREMENT PRIMARY KEY,\n",
    "    AppointmentID INT NOT NULL,\n",
    "    Amount DECIMAL(10,2) NOT NULL,\n",
    "    PaymentStatus ENUM('Paid', 'Unpaid', 'Pending') DEFAULT 'Unpaid',\n",
    "    PaymentDate DATETIME,\n",
    "    FOREIGN KEY (AppointmentID) REFERENCES Appointments(AppointmentID) ON DELETE CASCADE,\n",
    "    UNIQUE(AppointmentID)  -- 1-to-1: One bill per appointment\n",
    ");\n"
   ]
  }
 ],
 "metadata": {
  "kernelspec": {
   "display_name": "Python 3",
   "language": "python",
   "name": "python3"
  },
  "language_info": {
   "codemirror_mode": {
    "name": "ipython",
    "version": 3
   },
   "file_extension": ".py",
   "mimetype": "text/x-python",
   "name": "python",
   "nbconvert_exporter": "python",
   "pygments_lexer": "ipython3",
   "version": "3.12.5"
  }
 },
 "nbformat": 4,
 "nbformat_minor": 5
}
